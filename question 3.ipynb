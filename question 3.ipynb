{
 "cells": [
  {
   "cell_type": "code",
   "execution_count": 0,
   "metadata": {
    "colab": {},
    "colab_type": "code",
    "id": "GOKfFX5iGqSz"
   },
   "outputs": [],
   "source": [
    "import math\n",
    "import random\n",
    "import numpy as np\n",
    "import matplotlib\n",
    "import matplotlib.pyplot as plt\n",
    "from collections import namedtuple\n",
    "from itertools import count\n",
    "from PIL import Image\n",
    "from sklearn.metrics import r2_score\n",
    "import sys\n",
    "from numpy import linalg as LA\n",
    "from keras.utils import to_categorical\n",
    "from sklearn import preprocessing\n",
    "import warnings\n",
    "warnings.filterwarnings(\"ignore\")\n",
    "\n",
    "\n",
    "import tensorflow as tf\n",
    "gpus = tf.config.experimental.list_physical_devices('GPU')\n",
    "if gpus:\n",
    "  try:\n",
    "    # Currently, memory growth needs to be the same across GPUs\n",
    "    for gpu in gpus:\n",
    "      tf.config.experimental.set_memory_growth(gpu, True)\n",
    "    logical_gpus = tf.config.experimental.list_logical_devices('GPU')\n",
    "    print(len(gpus), \"Physical GPUs,\", len(logical_gpus), \"Logical GPUs\")\n",
    "  except RuntimeError as e:\n",
    "    # Memory growth must be set before GPUs have been initialized\n",
    "    print(e)\n",
    "import random\n",
    "from tensorflow.keras.layers import Dense, Flatten, Conv2D\n",
    "from tensorflow.keras import Model"
   ]
  },
  {
   "cell_type": "code",
   "execution_count": 0,
   "metadata": {
    "colab": {},
    "colab_type": "code",
    "id": "SFtrLOyIG7Tk"
   },
   "outputs": [],
   "source": [
    "def create_dataset(size):\n",
    "  seq = []\n",
    "  labels = []\n",
    "  for i in range(size):\n",
    "    seq_len = random.randint(100, 110)\n",
    "    t1 = random.randint(10,20)\n",
    "    t2 = random.randint(33,43)\n",
    "    t3 = random.randint(66,76)\n",
    "    sequence = \"\"\n",
    "    order = \"\"\n",
    "    label = \"\"\n",
    "    for i in range(seq_len):\n",
    "      if i == 0:\n",
    "        sequence+=\"E\"\n",
    "      elif i == seq_len - 1:\n",
    "        sequence+=\"B\"\n",
    "      elif i == t1 or i == t2 or i == t3:\n",
    "        temp = random.choice(['X','Y'])\n",
    "        order+=temp\n",
    "        sequence+=temp\n",
    "      else:\n",
    "        sequence+=random.choice(['a','b','c','d'])\n",
    "    if order == \"XXX\":\n",
    "          label+=\"Q\"\n",
    "    if order == \"XXY\":\n",
    "        label+=\"R\"\n",
    "    if order == \"XYX\":\n",
    "        label+=\"S\"\n",
    "    if order == \"XYY\":\n",
    "        label+=\"U\"\n",
    "    if order == \"YXX\":\n",
    "        label+=\"V\"\n",
    "    if order == \"YXY\":\n",
    "        label+=\"A\"\n",
    "    if order == \"YYX\":\n",
    "        label+=\"B\"\n",
    "    if order == \"YYY\":\n",
    "        label+=\"C\"\n",
    "    seq.append(np.array(list(sequence)))\n",
    "    labels.append(list(label))\n",
    "  return np.array(seq), np.array(labels)\n",
    "#one hot encoding\n",
    "def encoding_sequence(seq):\n",
    "  sequence = []\n",
    "  for x in seq:\n",
    "    y = []\n",
    "    for i in range(len(x)):    \n",
    "      if x[i] == \"E\" or x[i] == \"B\":\n",
    "        y.append(int(8))\n",
    "      elif x[i] == 'X':\n",
    "        y.append(int(9))\n",
    "      elif x[i] == 'Y':\n",
    "        y.append(int(10))\n",
    "      else:\n",
    "        y.append(int(11))\n",
    "    sequence.append(y)\n",
    "  return sequence\n",
    "\n",
    "def pre_processed_data(size):\n",
    "  seq, labels = create_dataset(size)\n",
    "  seq = encoding_sequence(seq)\n",
    "  padded_inputs = tf.keras.preprocessing.sequence.pad_sequences(seq,padding='post')\n",
    "  #one-hot encoding\n",
    "  encoded_data = [to_categorical(i) for i in padded_inputs]\n",
    "  encoded_data = np.reshape(np.array(encoded_data),(size,110,12))\n",
    "  # print(encoded_data.shape)\n",
    "  #label encoder\n",
    "  le = preprocessing.LabelEncoder()\n",
    "  le.fit(labels)\n",
    "  encoded_labels = le.transform(labels)\n",
    "  depth = 8\n",
    "  encoded_labels = tf.one_hot(encoded_labels, depth,\n",
    "            on_value=1.0, off_value=0.0,\n",
    "            axis=-1)\n",
    "  encoded_labels = np.reshape(encoded_labels, (size,8))\n",
    "  # print(encoded_labels.shape)\n",
    "  return encoded_data, encoded_labels\n",
    "\n",
    "\n",
    "def create_batch(n,features,label):\n",
    "  trainX=[]\n",
    "  trainY=[]\n",
    "  randomlist = random.sample(range(0, 3999), n)\n",
    "  for i in range(len(randomlist)):\n",
    "    trainX.append(features[i])\n",
    "    trainY.append(label[i])\n",
    "  trainX = np.reshape(np.array(trainX),(len(randomlist),12,110))\n",
    "  trainY = np.reshape(np.array(trainY),(len(randomlist),8))\n",
    "  return trainX, trainY\n",
    "\n",
    "def loss(loss_object, model, x, y, training):\n",
    "  y_ = model(x, training=training)\n",
    "  return loss_object(y_true=y, y_pred=y_)\n",
    "\n",
    "def grad(loss_object,model, inputs, targets):\n",
    "  with tf.GradientTape() as tape:\n",
    "    loss_value = loss(loss_object,model, inputs, targets, training=True)\n",
    "  return loss_value, tape.gradient(loss_value, model.trainable_variables)\n",
    "\n",
    "def train_model(model,encoded_data, encoded_labels):\n",
    "  loss_object = tf.keras.losses.CategoricalCrossentropy(from_logits=True)\n",
    "  optimizer = tf.keras.optimizers.SGD(learning_rate=0.1)\n",
    "  # Keep results for plotting\n",
    "  train_loss_results = []\n",
    "  av_training_error = 0\n",
    "  num_epochs = 0\n",
    "  while True:\n",
    "    num_epochs+=1\n",
    "    epoch_loss_avg = tf.keras.metrics.Mean()\n",
    "    x,y = create_batch(1,encoded_data,encoded_labels)\n",
    "    loss_value, grads = grad(loss_object,model,x, y)\n",
    "    optimizer.apply_gradients(zip(grads,model.trainable_variables))\n",
    "    predictions = model(x)\n",
    "    training_error = LA.norm(predictions - y, 1)\n",
    "    av_training_error+= ( training_error - av_training_error)/num_epochs\n",
    "    # Track progress\n",
    "    epoch_loss_avg.update_state(loss_value)\n",
    "    # End epoch\n",
    "    train_loss_results.append(av_training_error)\n",
    "\n",
    "    if num_epochs % 50 == 0:\n",
    "      print(\"Epoch {:03d}: Loss: {:.3f}, Average Training Error: {:.3}, Training error: {:.3f} \".format(num_epochs,\n",
    "                                                                  epoch_loss_avg.result(),av_training_error,training_error),flush=\"True\")\n",
    "      sys.stdout.flush()\n",
    "    if av_training_error < 0.1:\n",
    "      print(\"Training Ends\")\n",
    "      print(\"Epoch {:03d}: Loss: {:.3f}, Average Training Error: {:.3}, Training error: {:.3f} \".format(num_epochs,\n",
    "                                                                  epoch_loss_avg.result(),av_training_error,training_error),flush=\"True\")\n",
    "      break\n",
    "\n",
    "  #plotting training error vs number of sequences passed \n",
    "  fig = plt.figure()\n",
    "  plt.plot(train_loss_results)\n",
    "  fig.suptitle('Training Error vs Number of Sequences ', fontsize=20)\n",
    "  plt.xlabel('Number of Sequences', fontsize=18)\n",
    "  plt.ylabel('Training Error', fontsize=16)\n",
    "  plt.show()\n"
   ]
  },
  {
   "cell_type": "code",
   "execution_count": 7,
   "metadata": {
    "colab": {
     "base_uri": "https://localhost:8080/",
     "height": 518
    },
    "colab_type": "code",
    "id": "8bj1UrefHBV-",
    "outputId": "eae26ad5-ed6f-4a68-d3a0-68a8f0d40dfe"
   },
   "outputs": [
    {
     "name": "stdout",
     "output_type": "stream",
     "text": [
      "Epoch 050: Loss: 1.625, Average Training Error: 0.712, Training error: 0.385 \n",
      "Epoch 100: Loss: 1.322, Average Training Error: 0.431, Training error: 0.056 \n",
      "Epoch 150: Loss: 1.294, Average Training Error: 0.299, Training error: 0.024 \n",
      "Epoch 200: Loss: 1.286, Average Training Error: 0.229, Training error: 0.015 \n",
      "Epoch 250: Loss: 1.283, Average Training Error: 0.186, Training error: 0.010 \n",
      "Epoch 300: Loss: 1.281, Average Training Error: 0.156, Training error: 0.008 \n",
      "Epoch 350: Loss: 1.279, Average Training Error: 0.135, Training error: 0.006 \n",
      "Epoch 400: Loss: 1.278, Average Training Error: 0.119, Training error: 0.005 \n",
      "Epoch 450: Loss: 1.278, Average Training Error: 0.106, Training error: 0.005 \n",
      "Training Ends\n",
      "Epoch 479: Loss: 1.278, Average Training Error: 0.0999, Training error: 0.004 \n"
     ]
    },
    {
     "data": {
      "image/png": "[encoded data removed]",
      "text/plain": [
       "<Figure size 432x288 with 1 Axes>"
      ]
     },
     "metadata": {
      "needs_background": "light",
      "tags": []
     },
     "output_type": "display_data"
    },
    {
     "name": "stdout",
     "output_type": "stream",
     "text": [
      "Average Number of missclassification: 2700.0\n"
     ]
    }
   ],
   "source": [
    "model = tf.keras.Sequential([\n",
    "    tf.keras.layers.LSTM(2,return_sequences=True,kernel_initializer=tf.keras.initializers.RandomNormal(mean=0.0, stddev=0.5, seed=None),unit_forget_bias=False,bias_initializer= 'ones'),\n",
    "    tf.keras.layers.LSTM(4,return_sequences=True,kernel_initializer=tf.keras.initializers.RandomNormal(mean=0.0, stddev=0.5, seed=None)),\n",
    "    tf.keras.layers.LSTM(8,return_sequences=False,kernel_initializer=tf.keras.initializers.RandomNormal(mean=0.0, stddev=0.5, seed=None)),\n",
    "    tf.keras.layers.Dense(8, activation='softmax')])\n",
    "trainx, trainy = pre_processed_data(2000)\n",
    "train_model(model,trainx,trainy)\n",
    "\n",
    "#testing \n",
    "misclassification = []\n",
    "for i in range(10):\n",
    "  misclassify_count=0\n",
    "  testx,testy = pre_processed_data(3000)\n",
    "  for j in range(3000):\n",
    "    x,y = create_batch(1,testx,testy)\n",
    "    y_pred = model(x)\n",
    "    error_vector = y_pred - y\n",
    "    training_error = np.apply_along_axis(LA.norm, 1, error_vector)\n",
    "    if training_error > 0.3:\n",
    "      misclassify_count+=1\n",
    "  misclassification.append(misclassify_count)\n",
    "print(\"Average Number of missclassification: \"  + str(np.mean(np.array(misclassification))))"
   ]
  },
  {
   "cell_type": "code",
   "execution_count": 5,
   "metadata": {
    "colab": {
     "base_uri": "https://localhost:8080/",
     "height": 366
    },
    "colab_type": "code",
    "id": "aw41Vs_5JXfJ",
    "outputId": "9c81ba1f-1444-413c-896c-265e5c2aa073"
   },
   "outputs": [
    {
     "name": "stdout",
     "output_type": "stream",
     "text": [
      "Training Ends\n",
      "Epoch 046: Loss: 1.294, Average Training Error: 0.0993, Training error: 0.023 \n"
     ]
    },
    {
     "data": {
      "image/png": "[encoded data removed]",
      "text/plain": [
       "<Figure size 432x288 with 1 Axes>"
      ]
     },
     "metadata": {
      "needs_background": "light",
      "tags": []
     },
     "output_type": "display_data"
    },
    {
     "name": "stdout",
     "output_type": "stream",
     "text": [
      "Average Number of missclassification: 2400.0\n"
     ]
    }
   ],
   "source": [
    "model = tf.keras.Sequential()\n",
    "model.add(tf.keras.layers.SimpleRNN(\n",
    "    12, activation='tanh',return_sequences=True))\n",
    "model.add(tf.keras.layers.SimpleRNN(\n",
    "    10, activation='tanh',return_sequences=False))\n",
    "model.add(tf.keras.layers.Dense(8,activation='softmax'))\n",
    "\n",
    "\n",
    "trainx, trainy = pre_processed_data(2000)\n",
    "train_model(model,trainx,trainy)\n",
    "\n",
    "#testing \n",
    "misclassification = []\n",
    "for i in range(10):\n",
    "  misclassify_count=0\n",
    "  testx,testy = pre_processed_data(3000)\n",
    "  for j in range(3000):\n",
    "    x,y = create_batch(1,testx,testy)\n",
    "    y_pred = model(x)\n",
    "    error_vector = y_pred - y\n",
    "    training_error = np.apply_along_axis(LA.norm, 1, error_vector)\n",
    "    if training_error > 0.3:\n",
    "      misclassify_count+=1\n",
    "  misclassification.append(misclassify_count)\n",
    "print(\"Average Number of missclassification: \"  + str(np.mean(np.array(misclassification))))"
   ]
  }
 ],
 "metadata": {
  "colab": {
   "name": "q3.ipynb",
   "provenance": []
  },
  "kernelspec": {
   "display_name": "Python 3",
   "language": "python",
   "name": "python3"
  },
  "language_info": {
   "codemirror_mode": {
    "name": "ipython",
    "version": 3
   },
   "file_extension": ".py",
   "mimetype": "text/x-python",
   "name": "python",
   "nbconvert_exporter": "python",
   "pygments_lexer": "ipython3",
   "version": "3.7.4"
  }
 },
 "nbformat": 4,
 "nbformat_minor": 1
}
