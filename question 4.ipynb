{
 "cells": [
  {
   "cell_type": "code",
   "execution_count": 0,
   "metadata": {
    "colab": {},
    "colab_type": "code",
    "id": "NDAosaiYKixJ"
   },
   "outputs": [],
   "source": [
    "import math\n",
    "import random\n",
    "import numpy as np\n",
    "import matplotlib\n",
    "import matplotlib.pyplot as plt\n",
    "from collections import namedtuple\n",
    "from itertools import count\n",
    "from PIL import Image\n",
    "from sklearn.metrics import r2_score\n",
    "import sys\n",
    "from numpy import linalg as LA\n",
    "from keras.utils import to_categorical\n",
    "from sklearn import preprocessing\n",
    "import warnings\n",
    "warnings.filterwarnings(\"ignore\")\n",
    "\n",
    "\n",
    "import tensorflow as tf\n",
    "gpus = tf.config.experimental.list_physical_devices('GPU')\n",
    "if gpus:\n",
    "  try:\n",
    "    # Currently, memory growth needs to be the same across GPUs\n",
    "    for gpu in gpus:\n",
    "      tf.config.experimental.set_memory_growth(gpu, True)\n",
    "    logical_gpus = tf.config.experimental.list_logical_devices('GPU')\n",
    "    print(len(gpus), \"Physical GPUs,\", len(logical_gpus), \"Logical GPUs\")\n",
    "  except RuntimeError as e:\n",
    "    # Memory growth must be set before GPUs have been initialized\n",
    "    print(e)\n",
    "import random\n",
    "from tensorflow.keras.layers import Dense, Flatten, Conv2D\n",
    "from tensorflow.keras import Model"
   ]
  },
  {
   "cell_type": "code",
   "execution_count": 39,
   "metadata": {
    "colab": {
     "base_uri": "https://localhost:8080/",
     "height": 50
    },
    "colab_type": "code",
    "id": "NyxRZ_y4LBpd",
    "outputId": "c7ed6ef2-4792-48eb-8575-26464140a00d"
   },
   "outputs": [
    {
     "name": "stdout",
     "output_type": "stream",
     "text": [
      "(6000, 101, 101)\n",
      "(6000, 2)\n"
     ]
    }
   ],
   "source": [
    "#Preparing Dataset\n",
    "def data_create(size):\n",
    "    # total_samples = 2000\n",
    "    seq = []\n",
    "    labels = []\n",
    "    p = 100\n",
    "    for j in range(size):\n",
    "      first_symbol = random.choice([0,1])\n",
    "      symbol_idxs = random.choices([i for i in range(2,p+1)],k=p)\n",
    "      symbol_idxs.insert(0,first_symbol)\n",
    "      sequence = np.empty((p+1,p+1))\n",
    "      for i in range(len(symbol_idxs)):\n",
    "          one_hot_vector = np.zeros(p+1)\n",
    "          one_hot_vector[symbol_idxs[i]] = 1\n",
    "          sequence[i] = one_hot_vector\n",
    "      seq.append(sequence)\n",
    "      label = [0,0]\n",
    "      label[first_symbol] = 1\n",
    "      labels.append(label)\n",
    "    return np.array(seq), np.array(labels)\n",
    "\n",
    "data,labels = dataset(6000)\n",
    "print(data.shape)\n",
    "print(labels.shape)\n",
    "  \n",
    "\n",
    "        \n",
    "\n"
   ]
  },
  {
   "cell_type": "markdown",
   "metadata": {
    "colab_type": "text",
    "id": "z5uV8EV21oh-"
   },
   "source": [
    "**LSTM**"
   ]
  },
  {
   "cell_type": "code",
   "execution_count": 37,
   "metadata": {
    "colab": {
     "base_uri": "https://localhost:8080/",
     "height": 550
    },
    "colab_type": "code",
    "id": "zzt35msgMFNH",
    "outputId": "367966af-a5d4-416e-aac1-05c760012ef0"
   },
   "outputs": [
    {
     "name": "stdout",
     "output_type": "stream",
     "text": [
      "Epoch 1/2\n",
      "WARNING:tensorflow:Layer lstm_42 is casting an input tensor from dtype float64 to the layer's dtype of float32, which is new behavior in TensorFlow 2.  The layer has dtype float32 because it's dtype defaults to floatx.\n",
      "\n",
      "If you intended to run this layer in float32, you can safely ignore this warning. If in doubt, this warning is likely only an issue if you are porting a TensorFlow 1.X model to TensorFlow 2.\n",
      "\n",
      "To change all layers to have dtype float64 by default, call `tf.keras.backend.set_floatx('float64')`. To change just this layer, pass dtype='float64' to the layer constructor. If you are the author of this layer, you can disable autocasting by passing autocast=False to the base Layer constructor.\n",
      "\n",
      "4800/4800 - 232s - loss: 0.6933 - accuracy: 0.4977 - val_loss: 0.6933 - val_accuracy: 0.4975\n",
      "Epoch 2/2\n",
      "4800/4800 - 233s - loss: 0.6933 - accuracy: 0.5006 - val_loss: 0.6932 - val_accuracy: 0.4975\n"
     ]
    },
    {
     "data": {
      "image/png": "[encoded data removed]",
      "text/plain": [
       "<Figure size 432x288 with 1 Axes>"
      ]
     },
     "metadata": {
      "needs_background": "light",
      "tags": []
     },
     "output_type": "display_data"
    },
    {
     "name": "stdout",
     "output_type": "stream",
     "text": [
      "\n",
      "# Evaluate on test data\n",
      "24/24 [==============================] - 1s 25ms/step - loss: 0.6932 - accuracy: 0.4960\n",
      "test loss, test acc: [0.6931949853897095, 0.4959999918937683]\n"
     ]
    }
   ],
   "source": [
    "model = tf.keras.Sequential([\n",
    "    tf.keras.layers.LSTM(2,return_sequences=True),\n",
    "    tf.keras.layers.LSTM(4,return_sequences=True),\n",
    "    tf.keras.layers.LSTM(8,return_sequences=False),\n",
    "    tf.keras.layers.Dense(2, activation='softmax')])\n",
    "model.compile(loss=tf.keras.losses.CategoricalCrossentropy(from_logits=True), \n",
    "              optimizer=tf.keras.optimizers.SGD(0.001),\n",
    "              metrics=['accuracy'])\n",
    "history = model.fit(data,labels,\n",
    "          validation_split=0.2,\n",
    "          batch_size=1,\n",
    "          epochs=2,verbose=2)\n",
    "\n",
    "\n",
    "plt.plot(history.history['loss'])\n",
    "plt.title('model loss')\n",
    "plt.ylabel('loss')\n",
    "plt.xlabel('epoch')\n",
    "plt.show()\n",
    "\n",
    "test_data,test_labels = dataset(3000)\n",
    "print('\\n# Evaluate on test data')\n",
    "results = model.evaluate(test_data, test_labels, batch_size=128)\n",
    "print('test loss, test acc:', results)"
   ]
  },
  {
   "cell_type": "markdown",
   "metadata": {
    "colab_type": "text",
    "id": "bgNjeZLF3MQv"
   },
   "source": [
    "**RNN**"
   ]
  },
  {
   "cell_type": "code",
   "execution_count": 38,
   "metadata": {
    "colab": {
     "base_uri": "https://localhost:8080/",
     "height": 550
    },
    "colab_type": "code",
    "id": "hbOKHFl03Rva",
    "outputId": "327ca44c-f99f-4cfe-a5b0-a7776051234c"
   },
   "outputs": [
    {
     "name": "stdout",
     "output_type": "stream",
     "text": [
      "Epoch 1/2\n",
      "WARNING:tensorflow:Layer simple_rnn is casting an input tensor from dtype float64 to the layer's dtype of float32, which is new behavior in TensorFlow 2.  The layer has dtype float32 because it's dtype defaults to floatx.\n",
      "\n",
      "If you intended to run this layer in float32, you can safely ignore this warning. If in doubt, this warning is likely only an issue if you are porting a TensorFlow 1.X model to TensorFlow 2.\n",
      "\n",
      "To change all layers to have dtype float64 by default, call `tf.keras.backend.set_floatx('float64')`. To change just this layer, pass dtype='float64' to the layer constructor. If you are the author of this layer, you can disable autocasting by passing autocast=False to the base Layer constructor.\n",
      "\n",
      "4800/4800 [==============================] - 94s 19ms/step - loss: 0.7076 - accuracy: 0.4971 - val_loss: 0.7034 - val_accuracy: 0.4850\n",
      "Epoch 2/2\n",
      "4800/4800 [==============================] - 90s 19ms/step - loss: 0.6980 - accuracy: 0.5121 - val_loss: 0.6992 - val_accuracy: 0.5025\n"
     ]
    },
    {
     "data": {
      "image/png": "[encoded data removed]",
      "text/plain": [
       "<Figure size 432x288 with 1 Axes>"
      ]
     },
     "metadata": {
      "needs_background": "light",
      "tags": []
     },
     "output_type": "display_data"
    },
    {
     "name": "stdout",
     "output_type": "stream",
     "text": [
      "\n",
      "# Evaluate on test data\n",
      "24/24 [==============================] - 0s 14ms/step - loss: 0.6972 - accuracy: 0.4900\n",
      "test loss, test acc: [0.697191059589386, 0.49000000953674316]\n"
     ]
    }
   ],
   "source": [
    "model = tf.keras.Sequential()\n",
    "model.add(tf.keras.layers.SimpleRNN(\n",
    "    12, activation='tanh',return_sequences=True))\n",
    "model.add(tf.keras.layers.SimpleRNN(\n",
    "    10, activation='tanh',return_sequences=False))\n",
    "model.add(tf.keras.layers.Dense(2,activation='softmax'))\n",
    "\n",
    "\n",
    "model.compile(loss=tf.keras.losses.CategoricalCrossentropy(from_logits=True), \n",
    "              optimizer=tf.keras.optimizers.SGD(0.001),\n",
    "              metrics=['accuracy'])\n",
    "\n",
    "\n",
    "history = model.fit(data,labels,\n",
    "          validation_split=0.2,\n",
    "          batch_size=1,\n",
    "          epochs=2)\n",
    "\n",
    "plt.plot(history.history['loss'])\n",
    "plt.title('model loss')\n",
    "plt.ylabel('loss')\n",
    "plt.xlabel('epoch')\n",
    "plt.show()\n",
    "\n",
    "\n",
    "\n",
    "test_data,test_labels = dataset(3000)\n",
    "print('\\n# Evaluate on test data')\n",
    "results = model.evaluate(test_data, test_labels, batch_size=128)\n",
    "print('test loss, test acc:', results)"
   ]
  }
 ],
 "metadata": {
  "colab": {
   "collapsed_sections": [],
   "name": "Q4.ipynb",
   "provenance": []
  },
  "kernelspec": {
   "display_name": "Python 3",
   "language": "python",
   "name": "python3"
  },
  "language_info": {
   "codemirror_mode": {
    "name": "ipython",
    "version": 3
   },
   "file_extension": ".py",
   "mimetype": "text/x-python",
   "name": "python",
   "nbconvert_exporter": "python",
   "pygments_lexer": "ipython3",
   "version": "3.7.4"
  }
 },
 "nbformat": 4,
 "nbformat_minor": 1
}
