{
 "cells": [
  {
   "cell_type": "code",
   "execution_count": 1,
   "metadata": {},
   "outputs": [],
   "source": [
    "import torch\n",
    "from torch import nn\n",
    "import numpy as np\n",
    "import matplotlib.pyplot as plt\n",
    "%matplotlib inline"
   ]
  },
  {
   "cell_type": "code",
   "execution_count": 2,
   "metadata": {},
   "outputs": [],
   "source": [
    "import math as math\n",
    "def normpdf(x, mean, sd):\n",
    "    var = float(sd)**2\n",
    "    denom = (2*math.pi*var)**.5\n",
    "    num = math.exp(-(float(x)-float(mean))**2/(2*var))\n",
    "    return num/denom\n"
   ]
  },
  {
   "cell_type": "code",
   "execution_count": 3,
   "metadata": {},
   "outputs": [],
   "source": [
    "import random\n",
    "train=[]\n",
    "w = [0.4,0.3,0.3]\n",
    "out = []\n",
    "for i in range(10000):\n",
    "    x_out=[]\n",
    "    x = random.random()\n",
    "    x1 = normpdf(x,0,4)\n",
    "    x2 = normpdf(x,-6,4)\n",
    "    x3 = normpdf(x,6,4)\n",
    "    x_out.append(x1)\n",
    "    x_out.append(x2)\n",
    "    x_out.append(x3)\n",
    "    x_out = np.asarray(x_out)\n",
    "    out.append(0.4*x1 + 0.3*x2 + 0.3*x3)\n",
    "    train.append(x_out)\n",
    "    \n",
    "train = np.asarray(train,np.float64)\n",
    "out = np.asarray(out,np.float64)\n",
    "out = torch.from_numpy(out)"
   ]
  },
  {
   "cell_type": "code",
   "execution_count": 4,
   "metadata": {},
   "outputs": [],
   "source": [
    "import torch.nn as nn\n",
    "import torch.nn.functional as F\n",
    "\n",
    "class Discriminator(nn.Module):\n",
    "\n",
    "    def __init__(self, input_size, hidden_dim, output_size):\n",
    "        super(Discriminator, self).__init__()\n",
    "        \n",
    "        # define hidden linear layers\n",
    "        self.fc1 = nn.Linear(input_size, hidden_dim*2)\n",
    "        self.fc2 = nn.Linear(hidden_dim*2, hidden_dim)\n",
    "        \n",
    "        # final fully-connected layer\n",
    "        self.fc3 = nn.Linear(hidden_dim, output_size)\n",
    "        \n",
    "        # dropout layer \n",
    "        self.dropout = nn.Dropout(0.3)\n",
    "        \n",
    "        \n",
    "    def forward(self, x):\n",
    "        # all hidden layers\n",
    "        x = F.leaky_relu(self.fc1(x), 0.2) # (input, negative_slope=0.2)\n",
    "        x = self.dropout(x)\n",
    "        x = F.leaky_relu(self.fc2(x), 0.2)\n",
    "        x = self.dropout(x)\n",
    "        # final layer\n",
    "        out = self.fc3(x)\n",
    "\n",
    "        return out\n"
   ]
  },
  {
   "cell_type": "code",
   "execution_count": 5,
   "metadata": {},
   "outputs": [],
   "source": [
    "class Generator(nn.Module):\n",
    "\n",
    "    def __init__(self, input_size, hidden_dim, output_size):\n",
    "        super(Generator, self).__init__()\n",
    "        \n",
    "        # define hidden linear layers\n",
    "        self.fc1 = nn.Linear(input_size, hidden_dim)\n",
    "        self.fc2 = nn.Linear(hidden_dim, hidden_dim*2)\n",
    "        \n",
    "        # final fully-connected layer\n",
    "        self.fc3 = nn.Linear(hidden_dim*2, output_size)\n",
    "        \n",
    "        # dropout layer \n",
    "        self.dropout = nn.Dropout(0.3)\n",
    "\n",
    "    def forward(self, x):\n",
    "        # all hidden layers\n",
    "        x = F.leaky_relu(self.fc1(x), 0.2) # (input, negative_slope=0.2)\n",
    "        x = self.dropout(x)\n",
    "        x = F.leaky_relu(self.fc2(x), 0.2)\n",
    "        x = self.dropout(x)\n",
    "        # final layer with tanh applied\n",
    "        out = F.tanh(self.fc3(x))\n",
    "\n",
    "        return out"
   ]
  },
  {
   "cell_type": "code",
   "execution_count": 6,
   "metadata": {},
   "outputs": [],
   "source": [
    "# Discriminator hyperparams\n",
    "\n",
    "# Size of input image to discriminator \n",
    "input_size = 3\n",
    "# Size of discriminator output (real or fake)\n",
    "d_output_size = 1\n",
    "# Size of last hidden layer in the discriminator\n",
    "d_hidden_size = 8\n",
    "\n",
    "# Generator hyperparams\n",
    "\n",
    "# Size of latent vector to give to generator\n",
    "z_size = 10\n",
    "# Size of discriminator output (generated image)\n",
    "g_output_size = 3\n",
    "# Size of first hidden layer in the generator\n",
    "g_hidden_size = 8"
   ]
  },
  {
   "cell_type": "code",
   "execution_count": null,
   "metadata": {},
   "outputs": [],
   "source": []
  },
  {
   "cell_type": "code",
   "execution_count": 7,
   "metadata": {},
   "outputs": [
    {
     "name": "stdout",
     "output_type": "stream",
     "text": [
      "Discriminator(\n",
      "  (fc1): Linear(in_features=3, out_features=16, bias=True)\n",
      "  (fc2): Linear(in_features=16, out_features=8, bias=True)\n",
      "  (fc3): Linear(in_features=8, out_features=1, bias=True)\n",
      "  (dropout): Dropout(p=0.3, inplace=False)\n",
      ")\n",
      "\n",
      "Generator(\n",
      "  (fc1): Linear(in_features=10, out_features=8, bias=True)\n",
      "  (fc2): Linear(in_features=8, out_features=16, bias=True)\n",
      "  (fc3): Linear(in_features=16, out_features=3, bias=True)\n",
      "  (dropout): Dropout(p=0.3, inplace=False)\n",
      ")\n"
     ]
    }
   ],
   "source": [
    "# instantiate discriminator and generator\n",
    "D = Discriminator(input_size, d_hidden_size, d_output_size)\n",
    "G = Generator(z_size, g_hidden_size, g_output_size)\n",
    "\n",
    "# check that they are as you expect\n",
    "print(D)\n",
    "print()\n",
    "print(G)"
   ]
  },
  {
   "cell_type": "code",
   "execution_count": 8,
   "metadata": {},
   "outputs": [],
   "source": [
    "import torch.optim as optim\n",
    "\n",
    "# Optimizers\n",
    "lr = 0.002\n",
    "\n",
    "# Create optimizers for the discriminator and generator\n",
    "d_optimizer = optim.Adam(D.parameters(), lr)\n",
    "g_optimizer = optim.Adam(G.parameters(), lr)"
   ]
  },
  {
   "cell_type": "code",
   "execution_count": 9,
   "metadata": {},
   "outputs": [
    {
     "name": "stderr",
     "output_type": "stream",
     "text": [
      "c:\\users\\tushar\\anaconda3\\envs\\conda_pip_env\\lib\\site-packages\\torch\\nn\\functional.py:1340: UserWarning: nn.functional.tanh is deprecated. Use torch.tanh instead.\n",
      "  warnings.warn(\"nn.functional.tanh is deprecated. Use torch.tanh instead.\")\n"
     ]
    },
    {
     "name": "stdout",
     "output_type": "stream",
     "text": [
      "Epoch [    1/   20] | d_loss: 1.5119 | g_loss: 0.7462\n",
      "Epoch [    2/   20] | d_loss: 0.4489 | g_loss: 0.2244\n",
      "Epoch [    3/   20] | d_loss: 0.4489 | g_loss: 0.2244\n",
      "Epoch [    4/   20] | d_loss: 0.4489 | g_loss: 0.2244\n",
      "Epoch [    5/   20] | d_loss: 0.4489 | g_loss: 0.2244\n",
      "Epoch [    6/   20] | d_loss: 0.4489 | g_loss: 0.2244\n",
      "Epoch [    7/   20] | d_loss: 0.4489 | g_loss: 0.2244\n",
      "Epoch [    8/   20] | d_loss: 0.4489 | g_loss: 0.2244\n",
      "Epoch [    9/   20] | d_loss: 0.4489 | g_loss: 0.2244\n",
      "Epoch [   10/   20] | d_loss: 0.4489 | g_loss: 0.2244\n",
      "Epoch [   11/   20] | d_loss: 0.4489 | g_loss: 0.2244\n",
      "Epoch [   12/   20] | d_loss: 0.4489 | g_loss: 0.2244\n",
      "Epoch [   13/   20] | d_loss: 0.4489 | g_loss: 0.2244\n",
      "Epoch [   14/   20] | d_loss: 0.4489 | g_loss: 0.2244\n",
      "Epoch [   15/   20] | d_loss: 0.4489 | g_loss: 0.2244\n",
      "Epoch [   16/   20] | d_loss: 0.4489 | g_loss: 0.2244\n",
      "Epoch [   17/   20] | d_loss: 0.4489 | g_loss: 0.2244\n",
      "Epoch [   18/   20] | d_loss: 0.4489 | g_loss: 0.2244\n",
      "Epoch [   19/   20] | d_loss: 0.4489 | g_loss: 0.2244\n",
      "Epoch [   20/   20] | d_loss: 0.4489 | g_loss: 0.2244\n"
     ]
    }
   ],
   "source": [
    "import pickle as pkl\n",
    "\n",
    "# training hyperparams\n",
    "num_epochs = 20\n",
    "batch_size=256\n",
    "# keep track of loss and generated, \"fake\" samples\n",
    "samples = []\n",
    "lossesd = []\n",
    "lossesg=[]\n",
    "\n",
    "criterion = nn.BCEWithLogitsLoss()\n",
    "# Get some fixed data for sampling. These are images that are held\n",
    "# constant throughout training, and allow us to inspect the model's performance\n",
    "sample_size=16\n",
    "fixed_z = np.random.uniform(-1, 1, size=(sample_size, z_size))\n",
    "fixed_z = torch.from_numpy(fixed_z).float()\n",
    "\n",
    "# train the network\n",
    "D.train()\n",
    "G.train()\n",
    "epochs=[]\n",
    "for epoch in range(num_epochs):\n",
    "    j=0\n",
    "    for t in train:\n",
    "                \n",
    "                \n",
    "        # ============================================\n",
    "        #            TRAIN THE DISCRIMINATOR\n",
    "        # ============================================\n",
    "        \n",
    "        d_optimizer.zero_grad()\n",
    "        \n",
    "        # 1. Train with real images\n",
    "\n",
    "        # Compute the discriminator losses on real images \n",
    "        # smooth the real labels\n",
    "        t = torch.from_numpy(t).float()\n",
    "        D_real = D(t)\n",
    "        output = torch.tensor([out[j]])\n",
    "\n",
    "        d_real_loss = criterion(D_real, output)\n",
    "        \n",
    "        # 2. Train with fake images\n",
    "        \n",
    "        # Generate fake examples\n",
    "        z = np.random.uniform(-1, 1, size=10)\n",
    "        z = torch.from_numpy(z).float()\n",
    "        fake_t = G(z)\n",
    "        \n",
    "        # Compute the discriminator losses on fake data       \n",
    "        D_fake = D(fake_t)\n",
    "        output = torch.tensor([out[j]])\n",
    "        \n",
    "        d_fake_loss = criterion(D_fake,output)\n",
    "        \n",
    "        # add up loss and perform backprop\n",
    "        d_loss = d_real_loss + d_fake_loss\n",
    "        d_loss.backward()\n",
    "        d_optimizer.step()\n",
    "        \n",
    "        \n",
    "        # =========================================\n",
    "        #            TRAIN THE GENERATOR\n",
    "        # =========================================\n",
    "        g_optimizer.zero_grad()\n",
    "        \n",
    "        # 1. Train with fake images and flipped labels\n",
    "        \n",
    "        # Generate fake images\n",
    "        z = np.random.uniform(-1, 1, size=10)\n",
    "        z = torch.from_numpy(z).float()\n",
    "        fake_t = G(z)\n",
    "        \n",
    "        # Compute the discriminator losses on fake images \n",
    "        # using flipped labels!\n",
    "        D_fake = D(fake_t)\n",
    "        output = torch.tensor([out[j]])\n",
    "\n",
    "        g_loss = criterion(D_fake,output) # use real loss to flip labels\n",
    "        \n",
    "        # perform backprop\n",
    "        g_loss.backward()\n",
    "        g_optimizer.step()\n",
    "        \n",
    "        if j == 0:\n",
    "            # print discriminator and generator loss\n",
    "            print('Epoch [{:5d}/{:5d}] | d_loss: {:6.4f} | g_loss: {:6.4f}'.format(\n",
    "                    epoch+1, num_epochs, d_loss.item(), g_loss.item()))\n",
    "            \n",
    "            \n",
    "        j+=1\n",
    "\n",
    "    epochs.append(epoch)\n",
    "    ## AFTER EACH EPOCH##\n",
    "    # append discriminator loss and generator loss\n",
    "    lossesd.append(d_loss.item())\n",
    "    lossesg.append(g_loss.item())\n",
    "    \n",
    "    # generate and save sample, fake images\n",
    "    G.eval() # eval mode for generating samples\n",
    "    samples_z = G(fixed_z)\n",
    "    samples.append(samples_z)\n",
    "    G.train() # back to train mode\n",
    "\n",
    "    \n",
    "# Save training generator samples\n",
    "with open('train_samples.pkl', 'wb') as f:\n",
    "    pkl.dump(samples, f)"
   ]
  },
  {
   "cell_type": "code",
   "execution_count": 10,
   "metadata": {},
   "outputs": [
    {
     "data": {
      "text/plain": [
       "[<matplotlib.lines.Line2D at 0x1e16d010f08>]"
      ]
     },
     "execution_count": 10,
     "metadata": {},
     "output_type": "execute_result"
    },
    {
     "data": {
      "image/png": "[encoded data removed]",
      "text/plain": [
       "<Figure size 432x288 with 1 Axes>"
      ]
     },
     "metadata": {
      "needs_background": "light"
     },
     "output_type": "display_data"
    }
   ],
   "source": [
    "\n",
    "import matplotlib.pyplot as plt\n",
    "plt.plot(epochs,lossesd)"
   ]
  },
  {
   "cell_type": "code",
   "execution_count": 59,
   "metadata": {},
   "outputs": [],
   "source": [
    "import torch\n",
    "from torch import nn\n",
    "import numpy as np\n",
    "import matplotlib.pyplot as plt\n",
    "%matplotlib inline\n",
    "\n",
    "list_sam = []\n",
    "for i in range(20):\n",
    "    for j in range(16):\n",
    "        listing=[]\n",
    "        for k in range(3):\n",
    "            item = samples[i][j][k].detach().numpy()\n",
    "            listing.append(item)\n",
    "            \n",
    "        list_sam.append(listing)"
   ]
  },
  {
   "cell_type": "code",
   "execution_count": 60,
   "metadata": {},
   "outputs": [
    {
     "data": {
      "image/png": "[encoded data removed]",
      "text/plain": [
       "<Figure size 432x288 with 1 Axes>"
      ]
     },
     "metadata": {
      "needs_background": "light"
     },
     "output_type": "display_data"
    }
   ],
   "source": [
    "plt.hist(list_sam, bins=3, density=True)\n",
    "plt.show()"
   ]
  },
  {
   "cell_type": "code",
   "execution_count": 61,
   "metadata": {},
   "outputs": [
    {
     "data": {
      "text/plain": [
       "GaussianMixture(covariance_type='full', init_params='random', max_iter=100,\n",
       "        means_init=None, n_components=3, n_init=1, precisions_init=None,\n",
       "        random_state=None, reg_covar=1e-06, tol=0.001, verbose=0,\n",
       "        verbose_interval=10, warm_start=False, weights_init=None)"
      ]
     },
     "execution_count": 61,
     "metadata": {},
     "output_type": "execute_result"
    }
   ],
   "source": [
    "from sklearn.mixture import GaussianMixture\n",
    "\n",
    "model = GaussianMixture(n_components=3, init_params='random')\n",
    "model.fit(list_sam)\n",
    "\n"
   ]
  },
  {
   "cell_type": "code",
   "execution_count": 62,
   "metadata": {},
   "outputs": [
    {
     "name": "stdout",
     "output_type": "stream",
     "text": [
      "[2 2 2 2 2 2 2 2 2 2 2 2 2 2 2 2 2 2 2 2 2 2 2 2 2 2 2 2 2 2 2 2 2 2 2 2 2\n",
      " 2 2 2 2 2 2 2 2 2 2 2 0 0 0 0 0 0 0 0 0 0 0 0 0 0 0 0 0 0 0 0 0 0 0 0 0 0\n",
      " 0 0 0 0 0 0 2 1 1 1 2 2 2 1 2 1 2 1 2 1 2 1 0 0 0 0]\n",
      "[1 1 1 1 1 1 1 1 1 1 1 1 1 1 1 1 1 1 1 1 1 1 1 1 1 1 1 1 1 1 1 1 1 1 1 1 1\n",
      " 1 1 1 1 1 1 1 1 1 1 1 1 1 1 1 1 1 1 1 1 1 1 1 1 1 1 1 1 1 1 1 1 1 1 1 1 1\n",
      " 1 1 1 1 1 1 1 1 1 1 1 1 1 1 1 1 1 1 1 1 1 1 1 1 1 1]\n"
     ]
    }
   ],
   "source": [
    "yhat1 = model.predict(list_sam)\n",
    "\n",
    "# check latent value for first few points\n",
    "print(yhat1[:100])\n",
    "# check latent value for last few points\n",
    "print(yhat1[-100:])"
   ]
  },
  {
   "cell_type": "code",
   "execution_count": 63,
   "metadata": {},
   "outputs": [
    {
     "data": {
      "text/plain": [
       "GaussianMixture(covariance_type='full', init_params='random', max_iter=100,\n",
       "        means_init=None, n_components=3, n_init=1, precisions_init=None,\n",
       "        random_state=None, reg_covar=1e-06, tol=0.001, verbose=0,\n",
       "        verbose_interval=10, warm_start=False, weights_init=None)"
      ]
     },
     "execution_count": 63,
     "metadata": {},
     "output_type": "execute_result"
    }
   ],
   "source": [
    "model = GaussianMixture(n_components=3, init_params='random')\n",
    "model.fit(train)"
   ]
  },
  {
   "cell_type": "code",
   "execution_count": 64,
   "metadata": {},
   "outputs": [
    {
     "name": "stdout",
     "output_type": "stream",
     "text": [
      "[0 0 0 0 0 2 0 0 0 2 2 2 2 0 2 2 0 0 2 0 2 2 2 0 0 0 2 2 0 0 0 2 0 2 0 0 0\n",
      " 0 0 0 0 0 0 2 2 2 2 0 2 2 0 2 2 0 0 2 0 0 0 0 0 0 2 2 2 2 2 2 0 0 2 2 0 0\n",
      " 0 0 2 0 2 2 0 2 2 0 2 2 0 0 0 0 0 2 2 2 0 0 0 0 2 2]\n",
      "[2 0 0 2 2 2 0 0 0 0 2 0 0 2 0 2 2 2 0 0 0 2 0 2 0 0 2 0 0 0 2 0 0 0 0 0 2\n",
      " 2 0 0 0 2 2 2 2 0 0 0 2 2 0 0 0 0 0 2 2 0 2 2 2 0 0 2 2 0 0 2 2 0 0 2 2 2\n",
      " 2 2 2 0 2 2 2 2 0 2 2 2 2 0 2 0 0 0 2 0 2 2 2 0 2 2]\n"
     ]
    }
   ],
   "source": [
    "yhat2 = model.predict(train)\n",
    "\n",
    "# check latent value for first few points\n",
    "print(yhat2[:100])\n",
    "# check latent value for last few points\n",
    "print(yhat2[-100:])"
   ]
  },
  {
   "cell_type": "code",
   "execution_count": 65,
   "metadata": {},
   "outputs": [],
   "source": [
    "import math\n",
    "def kl_divergence(p, q):\n",
    "    a=0\n",
    "    for i in range(len(p)):\n",
    "        if(q[i]!=0):\n",
    "            if((p[i]/q[i])>0):\n",
    "                a+=sum(p[i] * math.log2(p[i]/q[i]))          \n",
    "    return a"
   ]
  },
  {
   "cell_type": "code",
   "execution_count": 66,
   "metadata": {},
   "outputs": [
    {
     "name": "stdout",
     "output_type": "stream",
     "text": [
      "KL(P || Q): 0.000 bits\n"
     ]
    }
   ],
   "source": [
    "loss=0\n",
    "yhat1 = torch.from_numpy(yhat1)\n",
    "yhat2 = torch.from_numpy(yhat2)\n",
    "\n",
    "sum1 = sum(yhat1)\n",
    "for i in range(len(yhat1)):\n",
    "    yhat1[i] = yhat1[i]/sum1\n",
    "sum2 = sum(yhat2)\n",
    "for i in range(len(yhat2)):\n",
    "    yhat2[i] = yhat2[i]/sum1    \n",
    "\n",
    "\n",
    "kl_pq = kl_divergence(yhat1, yhat2)\n",
    "print('KL(P || Q): %.3f bits' % kl_pq)\n",
    "\n",
    "\n",
    "\n",
    "    "
   ]
  },
  {
   "cell_type": "code",
   "execution_count": null,
   "metadata": {},
   "outputs": [],
   "source": []
  }
 ],
 "metadata": {
  "kernelspec": {
   "display_name": "Python 3",
   "language": "python",
   "name": "python3"
  },
  "language_info": {
   "codemirror_mode": {
    "name": "ipython",
    "version": 3
   },
   "file_extension": ".py",
   "mimetype": "text/x-python",
   "name": "python",
   "nbconvert_exporter": "python",
   "pygments_lexer": "ipython3",
   "version": "3.7.4"
  }
 },
 "nbformat": 4,
 "nbformat_minor": 4
}
